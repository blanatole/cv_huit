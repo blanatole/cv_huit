{
 "cells": [
  {
   "cell_type": "markdown",
   "metadata": {},
   "source": [
    "# 🔬 Training Pure Vision Transformer cho Segmentation\n",
    "\n",
    "Notebook này thực hiện training model **Pure Vision Transformer** cho bài toán phân đoạn khối u da:\n",
    "\n",
    "## 🎯 Model: Pure Vision Transformer Segmentation\n",
    "- **Architecture**: Vision Transformer thuần + Simple MLP Segmentation Head\n",
    "- **Backbone**: Vision Transformer Tiny (`vit_tiny_patch16_224`) từ timm\n",
    "- **Parameters**: ~5.8M (cực kỳ nhẹ, memory efficient)\n",
    "- **Ưu điểm**: \n",
    "  - ViT thuần 100% với self-attention global\n",
    "  - Không có CNN components (khác với UNet + ViT hybrid)\n",
    "  - Memory efficient cho GPU constraints\n",
    "  - Simple và stable architecture\n",
    "  - Phù hợp với memory constraints của user\n",
    "- **Learning Rate Scheduler**: Cosine Annealing với warmup\n",
    "\n",
    "## 📊 Training Configuration:\n",
    "- **Epochs**: 25 (với early stopping)\n",
    "- **Learning Rate**: 1e-4\n",
    "- **Batch Size**: 1 (optimized cho ViT memory usage)\n",
    "- **Optimizer**: Adam với weight decay 1e-4\n",
    "- **Loss Function**: Combined Loss (BCE + Dice)\n",
    "- **Metrics**: Dice Coefficient, Jaccard Index (IoU)\n",
    "- **Scheduler**: Cosine Annealing với warmup (5 epochs)\n",
    "- **Mixed Precision**: FP16 để tiết kiệm memory"
   ]
  },
  {
   "cell_type": "markdown",
   "metadata": {},
   "source": [
    "## 1. Import thư viện và setup"
   ]
  },
  {
   "cell_type": "code",
   "execution_count": 1,
   "metadata": {},
   "outputs": [],
   "source": [
    "# # Cài đặt các thư viện cần thiết\n",
    "# !pip install segmentation-models-pytorch timm torch torchvision\n",
    "# !pip install transformers einops\n",
    "# !pip install albumentations opencv-python-headless\n",
    "# !pip install matplotlib seaborn scikit-learn pillow tqdm"
   ]
  },
  {
   "cell_type": "code",
   "execution_count": 2,
   "metadata": {},
   "outputs": [
    {
     "name": "stdout",
     "output_type": "stream",
     "text": [
      "🔥 AGGRESSIVE GPU Memory Optimization...\n",
      "Using device: cuda (with EXTREME memory optimization)\n",
      "GPU: NVIDIA GeForce RTX 5070 Ti\n",
      "Total GPU Memory: 15.5 GB\n",
      "Allowed Memory: 6.2 GB (40% fraction)\n",
      "Currently allocated: 0.00 GB\n",
      "✅ Setup hoàn tất!\n"
     ]
    }
   ],
   "source": [
    "import os\n",
    "import numpy as np\n",
    "import pandas as pd\n",
    "import matplotlib.pyplot as plt\n",
    "import seaborn as sns\n",
    "from PIL import Image\n",
    "import cv2\n",
    "from tqdm import tqdm\n",
    "import warnings\n",
    "warnings.filterwarnings('ignore')\n",
    "\n",
    "# PyTorch\n",
    "import torch\n",
    "import torch.nn as nn\n",
    "import torch.nn.functional as F\n",
    "from torch.utils.data import Dataset, DataLoader\n",
    "import torchvision.transforms as transforms\n",
    "\n",
    "# Segmentation models\n",
    "import segmentation_models_pytorch as smp\n",
    "\n",
    "# Timm for ViT backbone\n",
    "import timm\n",
    "\n",
    "# Transformers for ViT\n",
    "from transformers import ViTModel, ViTConfig\n",
    "\n",
    "# Einops for tensor operations\n",
    "import einops\n",
    "\n",
    "# Albumentations for augmentation\n",
    "import albumentations as A\n",
    "from albumentations.pytorch import ToTensorV2\n",
    "\n",
    "# Metrics\n",
    "from sklearn.metrics import jaccard_score, f1_score\n",
    "\n",
    "# AGGRESSIVE GPU optimization for ViT\n",
    "print(\"🔥 AGGRESSIVE GPU Memory Optimization...\")\n",
    "\n",
    "# Kill all GPU processes first\n",
    "torch.cuda.empty_cache()\n",
    "import gc\n",
    "for i in range(5):\n",
    "    gc.collect()\n",
    "    torch.cuda.empty_cache()\n",
    "\n",
    "# Set very conservative memory fraction\n",
    "torch.cuda.set_per_process_memory_fraction(0.4)  # Only use 40% of GPU\n",
    "\n",
    "device = torch.device('cuda' if torch.cuda.is_available() else 'cpu')\n",
    "print(f\"Using device: {device} (with EXTREME memory optimization)\")\n",
    "\n",
    "if device.type == 'cuda':\n",
    "    print(f\"GPU: {torch.cuda.get_device_name(0)}\")\n",
    "    total_memory = torch.cuda.get_device_properties(0).total_memory / 1024**3\n",
    "    print(f\"Total GPU Memory: {total_memory:.1f} GB\")\n",
    "    print(f\"Allowed Memory: {total_memory * 0.4:.1f} GB (40% fraction)\")\n",
    "    \n",
    "    # Check current usage\n",
    "    allocated = torch.cuda.memory_allocated() / 1024**3\n",
    "    print(f\"Currently allocated: {allocated:.2f} GB\")\n",
    "    # Clear GPU cache\n",
    "    torch.cuda.empty_cache()\n",
    "else:\n",
    "    print(\"No GPU available\")\n",
    "\n",
    "# Tạo thư mục models nếu chưa có\n",
    "os.makedirs('models', exist_ok=True)\n",
    "print(\"✅ Setup hoàn tất!\")"
   ]
  },
  {
   "cell_type": "markdown",
   "metadata": {},
   "source": [
    "## 2. Dataset và Data Augmentation"
   ]
  },
  {
   "cell_type": "code",
   "execution_count": 3,
   "metadata": {},
   "outputs": [
    {
     "name": "stdout",
     "output_type": "stream",
     "text": [
      "✅ Dataset class và augmentations đã được định nghĩa!\n"
     ]
    }
   ],
   "source": [
    "class ISICDataset(Dataset):\n",
    "    def __init__(self, images_dir, masks_dir, transform=None, target_size=(512, 512)):\n",
    "        self.images_dir = images_dir\n",
    "        self.masks_dir = masks_dir\n",
    "        self.transform = transform\n",
    "        self.target_size = target_size\n",
    "        \n",
    "        # Lấy danh sách file images\n",
    "        self.image_files = sorted([f for f in os.listdir(images_dir) \n",
    "                                 if f.endswith(('.jpg', '.jpeg', '.png'))])\n",
    "        \n",
    "        print(f\"Found {len(self.image_files)} images in {images_dir}\")\n",
    "    \n",
    "    def __len__(self):\n",
    "        return len(self.image_files)\n",
    "    \n",
    "    def __getitem__(self, idx):\n",
    "        # Load image\n",
    "        img_name = self.image_files[idx]\n",
    "        img_path = os.path.join(self.images_dir, img_name)\n",
    "        image = cv2.imread(img_path)\n",
    "        image = cv2.cvtColor(image, cv2.COLOR_BGR2RGB)\n",
    "        \n",
    "        # Find corresponding mask\n",
    "        base_name = os.path.splitext(img_name)[0]\n",
    "        possible_mask_names = [\n",
    "            f\"{base_name}_segmentation.png\",\n",
    "            f\"{base_name}_mask.png\",\n",
    "            f\"{base_name}.png\"\n",
    "        ]\n",
    "        \n",
    "        mask = None\n",
    "        for mask_name in possible_mask_names:\n",
    "            mask_path = os.path.join(self.masks_dir, mask_name)\n",
    "            if os.path.exists(mask_path):\n",
    "                mask = cv2.imread(mask_path, cv2.IMREAD_GRAYSCALE)\n",
    "                break\n",
    "        \n",
    "        if mask is None:\n",
    "            # Create dummy mask if not found\n",
    "            mask = np.zeros((image.shape[0], image.shape[1]), dtype=np.uint8)\n",
    "        \n",
    "        # Resize\n",
    "        image = cv2.resize(image, self.target_size)\n",
    "        mask = cv2.resize(mask, self.target_size)\n",
    "        \n",
    "        # Convert mask to binary\n",
    "        mask = (mask > 127).astype(np.float32)\n",
    "        \n",
    "        # Apply augmentations\n",
    "        if self.transform:\n",
    "            augmented = self.transform(image=image, mask=mask)\n",
    "            image = augmented['image']\n",
    "            mask = augmented['mask']\n",
    "        \n",
    "        # Convert to tensor if not already\n",
    "        if not isinstance(image, torch.Tensor):\n",
    "            image = torch.from_numpy(image.transpose(2, 0, 1)).float() / 255.0\n",
    "        \n",
    "        if not isinstance(mask, torch.Tensor):\n",
    "            mask = torch.from_numpy(mask).float().unsqueeze(0)\n",
    "        \n",
    "        return image, mask\n",
    "\n",
    "# Define augmentations\n",
    "train_transform = A.Compose([\n",
    "    A.HorizontalFlip(p=0.5),\n",
    "    A.VerticalFlip(p=0.5),\n",
    "    A.RandomRotate90(p=0.5),\n",
    "    A.ShiftScaleRotate(shift_limit=0.1, scale_limit=0.1, rotate_limit=15, p=0.5),\n",
    "    A.RandomBrightnessContrast(brightness_limit=0.2, contrast_limit=0.2, p=0.5),\n",
    "    A.HueSaturationValue(hue_shift_limit=10, sat_shift_limit=20, val_shift_limit=10, p=0.5),\n",
    "    A.Normalize(mean=[0.485, 0.456, 0.406], std=[0.229, 0.224, 0.225]),\n",
    "    ToTensorV2()\n",
    "])\n",
    "\n",
    "val_transform = A.Compose([\n",
    "    A.Normalize(mean=[0.485, 0.456, 0.406], std=[0.229, 0.224, 0.225]),\n",
    "    ToTensorV2()\n",
    "])\n",
    "\n",
    "print(\"✅ Dataset class và augmentations đã được định nghĩa!\")"
   ]
  },
  {
   "cell_type": "code",
   "execution_count": 4,
   "metadata": {},
   "outputs": [
    {
     "name": "stdout",
     "output_type": "stream",
     "text": [
      "Found 2594 images in data/train/images\n",
      "Found 100 images in data/val/images\n",
      "🔧 Effective batch size: 8 (via gradient accumulation)\n",
      "📊 Dataset Summary:\n",
      "   - Training samples: 2594\n",
      "   - Validation samples: 100\n",
      "   - Batch size: 1\n",
      "   - Training batches: 2594\n",
      "   - Validation batches: 100\n"
     ]
    }
   ],
   "source": [
    "# Create datasets\n",
    "train_dataset = ISICDataset(\n",
    "    images_dir='data/train/images',\n",
    "    masks_dir='data/train/ground_truth',\n",
    "    transform=train_transform,\n",
    "    target_size=(512, 512)\n",
    ")\n",
    "\n",
    "val_dataset = ISICDataset(\n",
    "    images_dir='data/val/images',\n",
    "    masks_dir='data/val/ground_truth',\n",
    "    transform=val_transform,\n",
    "    target_size=(512, 512)\n",
    ")\n",
    "\n",
    "# Create data loaders (EXTREME memory optimization)\n",
    "batch_size = 1  # MINIMUM batch size for ViT\n",
    "accumulation_steps = 8  # Simulate batch_size=8 with gradient accumulation\n",
    "print(f\"🔧 Effective batch size: {batch_size * accumulation_steps} (via gradient accumulation)\")\n",
    "\n",
    "train_loader = DataLoader(\n",
    "    train_dataset,\n",
    "    batch_size=batch_size,\n",
    "    shuffle=True,\n",
    "    num_workers=4,\n",
    "    pin_memory=True\n",
    ")\n",
    "\n",
    "val_loader = DataLoader(\n",
    "    val_dataset,\n",
    "    batch_size=batch_size,\n",
    "    shuffle=False,\n",
    "    num_workers=4,\n",
    "    pin_memory=True\n",
    ")\n",
    "\n",
    "print(f\"📊 Dataset Summary:\")\n",
    "print(f\"   - Training samples: {len(train_dataset)}\")\n",
    "print(f\"   - Validation samples: {len(val_dataset)}\")\n",
    "print(f\"   - Batch size: {batch_size}\")\n",
    "print(f\"   - Training batches: {len(train_loader)}\")\n",
    "print(f\"   - Validation batches: {len(val_loader)}\")"
   ]
  },
  {
   "cell_type": "markdown",
   "metadata": {},
   "source": [
    "## 3. Pure ViT Segmentation Model Definition"
   ]
  },
  {
   "cell_type": "code",
   "execution_count": 5,
   "metadata": {},
   "outputs": [
    {
     "name": "stdout",
     "output_type": "stream",
     "text": [
      "🧹 Clearing ALL GPU memory...\n",
      "\n",
      "⚠️  CRITICAL: Nếu vẫn OOM, hãy RESTART KERNEL trước!\n",
      "   1. Kernel -> Restart & Clear Output\n",
      "   2. Chạy lại từ đầu với GPU optimizations\n",
      "   3. Hoặc uncomment dòng: device = torch.device('cpu')\n",
      "🔬 Initializing Pure ViT Segmentation model...\n",
      "✅ ViT Segmentation loaded: vit_tiny_patch16_224\n",
      "   - Feature dimension: 192\n",
      "   - Pre-trained: True\n",
      "   - Number of classes: 1\n",
      "📊 Model Statistics:\n",
      "   - Total parameters: 5,804,932\n",
      "   - Trainable parameters: 5,804,932\n",
      "   - Model size: ~5.8M parameters\n"
     ]
    }
   ],
   "source": [
    "class ViTSegmentation(nn.Module):\n",
    "    def __init__(self, vit_model_name=\"vit_tiny_patch16_224\", num_classes=1, pretrained=True):\n",
    "        super().__init__()\n",
    "        \n",
    "        # Load Vision Transformer từ timm (classification head)\n",
    "        self.vit = timm.create_model(\n",
    "            vit_model_name, \n",
    "            pretrained=pretrained,\n",
    "            num_classes=0  # Remove classification head\n",
    "        )\n",
    "        \n",
    "        # Get feature dimension\n",
    "        self.feature_dim = self.vit.num_features\n",
    "        \n",
    "        # Simple segmentation head\n",
    "        self.seg_head = nn.Sequential(\n",
    "            nn.Linear(self.feature_dim, 512),\n",
    "            nn.ReLU(inplace=True),\n",
    "            nn.Dropout(0.1),\n",
    "            nn.Linear(512, 256),\n",
    "            nn.ReLU(inplace=True),\n",
    "            nn.Dropout(0.1),\n",
    "            nn.Linear(256, 14 * 14 * num_classes)  # 14x14 patches for 224x224 input\n",
    "        )\n",
    "        \n",
    "        self.num_classes = num_classes\n",
    "        \n",
    "        print(f\"✅ ViT Segmentation loaded: {vit_model_name}\")\n",
    "        print(f\"   - Feature dimension: {self.feature_dim}\")\n",
    "        print(f\"   - Pre-trained: {pretrained}\")\n",
    "        print(f\"   - Number of classes: {num_classes}\")\n",
    "    \n",
    "    def forward(self, x):\n",
    "        # Resize input cho ViT (224x224)\n",
    "        original_size = x.shape[-2:]\n",
    "        x_resized = F.interpolate(x, size=(224, 224), mode='bilinear', align_corners=False)\n",
    "        \n",
    "        # Extract global features từ ViT\n",
    "        features = self.vit(x_resized)  # [batch, feature_dim]\n",
    "        \n",
    "        # Generate segmentation map\n",
    "        seg_output = self.seg_head(features)  # [batch, 14*14*num_classes]\n",
    "        \n",
    "        # Reshape to spatial format\n",
    "        batch_size = seg_output.shape[0]\n",
    "        seg_map = seg_output.view(batch_size, self.num_classes, 14, 14)\n",
    "        \n",
    "        # Upsample về original input size\n",
    "        seg_map = F.interpolate(seg_map, size=original_size, mode='bilinear', align_corners=False)\n",
    "        \n",
    "        # Return logits (no sigmoid) for BCEWithLogitsLoss\n",
    "        return seg_map\n",
    "\n",
    "# CRITICAL: Clear ALL GPU memory và kill other processes\n",
    "print(\"🧹 Clearing ALL GPU memory...\")\n",
    "\n",
    "# Clear PyTorch cache\n",
    "torch.cuda.empty_cache()\n",
    "import gc\n",
    "gc.collect()\n",
    "\n",
    "# Force garbage collection multiple times\n",
    "for i in range(3):\n",
    "    gc.collect()\n",
    "    torch.cuda.empty_cache()\n",
    "\n",
    "print(\"\\n⚠️  CRITICAL: Nếu vẫn OOM, hãy RESTART KERNEL trước!\")\n",
    "print(\"   1. Kernel -> Restart & Clear Output\")\n",
    "print(\"   2. Chạy lại từ đầu với GPU optimizations\")\n",
    "print(\"   3. Hoặc uncomment dòng: device = torch.device('cpu')\")\n",
    "\n",
    "# EMERGENCY: Uncomment this line if still OOM\n",
    "# device = torch.device('cpu')\n",
    "# print(\"🚨 EMERGENCY: Switched to CPU training!\")\n",
    "\n",
    "# Initialize model (ViT segmentation - using TINY for extreme memory efficiency)\n",
    "print(\"🔬 Initializing Pure ViT Segmentation model...\")\n",
    "model = ViTSegmentation(\n",
    "    vit_model_name=\"vit_tiny_patch16_224\",  # TINY ViT - only ~5M parameters\n",
    "    num_classes=1,\n",
    "    pretrained=True\n",
    ")\n",
    "model = model.to(device)\n",
    "\n",
    "# Count parameters\n",
    "total_params = sum(p.numel() for p in model.parameters())\n",
    "trainable_params = sum(p.numel() for p in model.parameters() if p.requires_grad)\n",
    "\n",
    "print(f\"📊 Model Statistics:\")\n",
    "print(f\"   - Total parameters: {total_params:,}\")\n",
    "print(f\"   - Trainable parameters: {trainable_params:,}\")\n",
    "print(f\"   - Model size: ~{total_params/1e6:.1f}M parameters\")"
   ]
  },
  {
   "cell_type": "markdown",
   "metadata": {},
   "source": [
    "## 4. Loss Functions và Metrics"
   ]
  },
  {
   "cell_type": "code",
   "execution_count": 6,
   "metadata": {},
   "outputs": [
    {
     "name": "stdout",
     "output_type": "stream",
     "text": [
      "✅ Loss functions và metrics đã được định nghĩa!\n"
     ]
    }
   ],
   "source": [
    "class DiceLoss(nn.Module):\n",
    "    def __init__(self, smooth=1e-6):\n",
    "        super().__init__()\n",
    "        self.smooth = smooth\n",
    "        \n",
    "    def forward(self, pred, target):\n",
    "        pred = pred.view(-1)\n",
    "        target = target.view(-1)\n",
    "        \n",
    "        intersection = (pred * target).sum()\n",
    "        dice = (2. * intersection + self.smooth) / (pred.sum() + target.sum() + self.smooth)\n",
    "        \n",
    "        return 1 - dice\n",
    "\n",
    "class CombinedLoss(nn.Module):\n",
    "    def __init__(self, alpha=0.5):\n",
    "        super().__init__()\n",
    "        self.alpha = alpha\n",
    "        self.bce = nn.BCEWithLogitsLoss()  # Safe for autocast\n",
    "        self.dice = DiceLoss()\n",
    "        \n",
    "    def forward(self, logits, target):\n",
    "        # logits: raw output from model (before sigmoid)\n",
    "        # target: ground truth masks\n",
    "        \n",
    "        # Ensure logits and target have the same shape\n",
    "        if logits.dim() == 4 and target.dim() == 3:\n",
    "            logits = logits.squeeze(1)  # Remove channel dimension: [batch, H, W]\n",
    "        elif logits.dim() == 3 and target.dim() == 4:\n",
    "            target = target.squeeze(1)  # Remove channel dimension: [batch, H, W]\n",
    "        \n",
    "        # BCE with logits (safe for autocast)\n",
    "        bce_loss = self.bce(logits, target)\n",
    "        \n",
    "        # Dice loss needs probabilities, so apply sigmoid\n",
    "        pred_probs = torch.sigmoid(logits)\n",
    "        dice_loss = self.dice(pred_probs, target)\n",
    "        \n",
    "        return self.alpha * bce_loss + (1 - self.alpha) * dice_loss\n",
    "\n",
    "def calculate_dice_batch(logits, target, threshold=0.5):\n",
    "    \"\"\"Calculate Dice coefficient for a batch (logits input)\"\"\"\n",
    "    # Convert logits to probabilities\n",
    "    pred = torch.sigmoid(logits)\n",
    "    \n",
    "    # Ensure pred and target have the same shape\n",
    "    if pred.dim() == 4 and target.dim() == 3:\n",
    "        pred = pred.squeeze(1)  # Remove channel dimension\n",
    "    elif pred.dim() == 3 and target.dim() == 4:\n",
    "        target = target.squeeze(1)  # Remove channel dimension\n",
    "    \n",
    "    pred_binary = (pred > threshold).float()\n",
    "    target_binary = target.float()\n",
    "    \n",
    "    intersection = (pred_binary * target_binary).sum()\n",
    "    dice = (2. * intersection) / (pred_binary.sum() + target_binary.sum() + 1e-6)\n",
    "    \n",
    "    return dice.item()\n",
    "\n",
    "def calculate_jaccard_batch(logits, target, threshold=0.5):\n",
    "    \"\"\"Calculate Jaccard Index (IoU) for a batch (logits input)\"\"\"\n",
    "    # Convert logits to probabilities\n",
    "    pred = torch.sigmoid(logits)\n",
    "    \n",
    "    # Ensure pred and target have the same shape\n",
    "    if pred.dim() == 4 and target.dim() == 3:\n",
    "        pred = pred.squeeze(1)  # Remove channel dimension\n",
    "    elif pred.dim() == 3 and target.dim() == 4:\n",
    "        target = target.squeeze(1)  # Remove channel dimension\n",
    "    \n",
    "    # Convert to boolean for intersection and union\n",
    "    pred_bool = (pred > threshold).bool()\n",
    "    target_bool = target.bool()\n",
    "    \n",
    "    intersection = (pred_bool & target_bool).float().sum()\n",
    "    union = (pred_bool | target_bool).float().sum()\n",
    "    \n",
    "    jaccard = intersection / (union + 1e-6)\n",
    "    return jaccard.item()\n",
    "\n",
    "print(\"✅ Loss functions và metrics đã được định nghĩa!\")"
   ]
  },
  {
   "cell_type": "markdown",
   "metadata": {},
   "source": [
    "## 5. Cosine Annealing với Warmup Scheduler"
   ]
  },
  {
   "cell_type": "code",
   "execution_count": 7,
   "metadata": {},
   "outputs": [
    {
     "name": "stdout",
     "output_type": "stream",
     "text": [
      "✅ Cosine Annealing Warmup scheduler đã được định nghĩa!\n"
     ]
    }
   ],
   "source": [
    "class CosineAnnealingWarmupRestarts(torch.optim.lr_scheduler._LRScheduler):\n",
    "    \"\"\"\n",
    "    Cosine Annealing với Warmup scheduler\n",
    "    \"\"\"\n",
    "    def __init__(self, optimizer, first_cycle_steps, cycle_mult=1., max_lr=0.1, min_lr=0.001, \n",
    "                 warmup_steps=0, gamma=1., last_epoch=-1):\n",
    "        self.first_cycle_steps = first_cycle_steps\n",
    "        self.cycle_mult = cycle_mult\n",
    "        self.base_max_lr = max_lr\n",
    "        self.max_lr = max_lr\n",
    "        self.min_lr = min_lr\n",
    "        self.warmup_steps = warmup_steps\n",
    "        self.gamma = gamma\n",
    "        \n",
    "        self.cur_cycle_steps = first_cycle_steps\n",
    "        self.cycle = 0\n",
    "        self.step_in_cycle = last_epoch\n",
    "        \n",
    "        super(CosineAnnealingWarmupRestarts, self).__init__(optimizer, last_epoch)\n",
    "        \n",
    "        # Set learning rate to min_lr\n",
    "        self.init_lr()\n",
    "    \n",
    "    def init_lr(self):\n",
    "        self.base_lrs = []\n",
    "        for param_group in self.optimizer.param_groups:\n",
    "            param_group['lr'] = self.min_lr\n",
    "            self.base_lrs.append(self.min_lr)\n",
    "    \n",
    "    def get_lr(self):\n",
    "        if self.step_in_cycle == -1:\n",
    "            return self.base_lrs\n",
    "        elif self.step_in_cycle < self.warmup_steps:\n",
    "            return [(self.max_lr - base_lr)*self.step_in_cycle / self.warmup_steps + base_lr for base_lr in self.base_lrs]\n",
    "        else:\n",
    "            return [base_lr + (self.max_lr - base_lr) * \\\n",
    "                    (1 + np.cos(np.pi * (self.step_in_cycle-self.warmup_steps) / (self.cur_cycle_steps - self.warmup_steps))) / 2\n",
    "                    for base_lr in self.base_lrs]\n",
    "\n",
    "    def step(self, epoch=None):\n",
    "        if epoch is None:\n",
    "            epoch = self.last_epoch + 1\n",
    "            self.step_in_cycle = self.step_in_cycle + 1\n",
    "            if self.step_in_cycle >= self.cur_cycle_steps:\n",
    "                self.cycle += 1\n",
    "                self.step_in_cycle = self.step_in_cycle - self.cur_cycle_steps\n",
    "                self.cur_cycle_steps = int((self.cur_cycle_steps - self.warmup_steps) * self.cycle_mult) + self.warmup_steps\n",
    "        else:\n",
    "            if epoch >= self.first_cycle_steps:\n",
    "                if self.cycle_mult == 1.:\n",
    "                    self.step_in_cycle = epoch % self.first_cycle_steps\n",
    "                    self.cycle = epoch // self.first_cycle_steps\n",
    "                else:\n",
    "                    n = int(np.log((epoch / self.first_cycle_steps * (self.cycle_mult - 1) + 1), self.cycle_mult))\n",
    "                    self.cycle = n\n",
    "                    self.step_in_cycle = epoch - int(self.first_cycle_steps * (self.cycle_mult ** n - 1) / (self.cycle_mult - 1))\n",
    "                    self.cur_cycle_steps = self.first_cycle_steps * self.cycle_mult ** (n)\n",
    "            else:\n",
    "                self.cur_cycle_steps = self.first_cycle_steps\n",
    "                self.step_in_cycle = epoch\n",
    "                \n",
    "        self.max_lr = self.base_max_lr * (self.gamma**self.cycle)\n",
    "        self.last_epoch = epoch\n",
    "        for param_group, lr in zip(self.optimizer.param_groups, self.get_lr()):\n",
    "            param_group['lr'] = lr\n",
    "\n",
    "print(\"✅ Cosine Annealing Warmup scheduler đã được định nghĩa!\")"
   ]
  },
  {
   "cell_type": "markdown",
   "metadata": {},
   "source": [
    "## 6. Training Function"
   ]
  },
  {
   "cell_type": "code",
   "execution_count": 8,
   "metadata": {},
   "outputs": [
    {
     "name": "stdout",
     "output_type": "stream",
     "text": [
      "✅ Training function đã được định nghĩa!\n"
     ]
    }
   ],
   "source": [
    "def train_pure_vit(model, train_loader, val_loader, num_epochs=20, lr=1e-4, warmup_epochs=5, patience=5, min_delta=0.001):\n",
    "    \"\"\"\n",
    "    Training function for Pure ViT Segmentation with Cosine Annealing Warmup scheduler and Early Stopping\n",
    "    \n",
    "    Args:\n",
    "        patience: Number of epochs to wait for improvement before stopping\n",
    "        min_delta: Minimum change to qualify as an improvement\n",
    "    \"\"\"\n",
    "    # Loss function and optimizer\n",
    "    criterion = CombinedLoss(alpha=0.5)  # Combination of BCE and Dice loss\n",
    "    optimizer = torch.optim.Adam(model.parameters(), lr=lr, weight_decay=1e-4)\n",
    "    \n",
    "    # Cosine Annealing với Warmup scheduler\n",
    "    scheduler = CosineAnnealingWarmupRestarts(\n",
    "        optimizer,\n",
    "        first_cycle_steps=num_epochs,\n",
    "        max_lr=lr,\n",
    "        min_lr=lr*0.01,\n",
    "        warmup_steps=warmup_epochs\n",
    "    )\n",
    "    \n",
    "    # Mixed precision training for memory efficiency\n",
    "    scaler = torch.amp.GradScaler('cuda') if device.type == 'cuda' else None\n",
    "    \n",
    "    # Training history\n",
    "    history = {\n",
    "        'train_losses': [],\n",
    "        'val_losses': [],\n",
    "        'train_dice': [],\n",
    "        'val_dice': [],\n",
    "        'train_jaccard': [],\n",
    "        'val_jaccard': [],\n",
    "        'learning_rates': []\n",
    "    }\n",
    "    \n",
    "    # Early stopping variables\n",
    "    best_val_loss = float('inf')\n",
    "    patience_counter = 0\n",
    "    early_stopped = False\n",
    "    \n",
    "    print(f\"🚀 Bắt đầu training Pure ViT Segmentation...\")\n",
    "    print(f\"📊 Configuration:\")\n",
    "    print(f\"   - Epochs: {num_epochs}\")\n",
    "    print(f\"   - Learning Rate: {lr}\")\n",
    "    print(f\"   - Early Stopping: Patience={patience}, Min Delta={min_delta}\")\n",
    "    print(f\"   - Warmup Epochs: {warmup_epochs}\")\n",
    "    print(f\"   - Scheduler: Cosine Annealing với Warmup\")\n",
    "    print(f\"   - Loss: Combined (BCE + Dice)\")\n",
    "    print(\"=\" * 70)\n",
    "    \n",
    "    for epoch in range(num_epochs):\n",
    "        # Training phase\n",
    "        model.train()\n",
    "        train_loss = 0.0\n",
    "        train_dice = 0.0\n",
    "        train_jaccard = 0.0\n",
    "        \n",
    "        train_pbar = tqdm(train_loader, desc=f'Epoch {epoch+1}/{num_epochs} - Training')\n",
    "        \n",
    "        # Gradient accumulation setup\n",
    "        accumulation_steps = 8  # Simulate larger batch size\n",
    "        optimizer.zero_grad()\n",
    "        \n",
    "        for batch_idx, (images, masks) in enumerate(train_pbar):\n",
    "            images, masks = images.to(device), masks.to(device)\n",
    "            \n",
    "            # Mixed precision training with gradient accumulation\n",
    "            if scaler is not None:\n",
    "                with torch.amp.autocast('cuda'):\n",
    "                    outputs = model(images)\n",
    "                    loss = criterion(outputs, masks)\n",
    "                    loss = loss / accumulation_steps  # Scale loss\n",
    "                scaler.scale(loss).backward()\n",
    "                \n",
    "                # Update weights every accumulation_steps\n",
    "                if (batch_idx + 1) % accumulation_steps == 0:\n",
    "                    scaler.step(optimizer)\n",
    "                    scaler.update()\n",
    "                    optimizer.zero_grad()\n",
    "            else:\n",
    "                outputs = model(images)\n",
    "                loss = criterion(outputs, masks)\n",
    "                loss = loss / accumulation_steps  # Scale loss\n",
    "                loss.backward()\n",
    "                \n",
    "                # Update weights every accumulation_steps\n",
    "                if (batch_idx + 1) % accumulation_steps == 0:\n",
    "                    optimizer.step()\n",
    "                    optimizer.zero_grad()\n",
    "            \n",
    "            # Calculate metrics (outputs are logits now)\n",
    "            with torch.no_grad():\n",
    "                dice = calculate_dice_batch(outputs, masks)\n",
    "                jaccard = calculate_jaccard_batch(outputs, masks)\n",
    "                train_dice += dice\n",
    "                train_jaccard += jaccard\n",
    "            \n",
    "            train_loss += loss.item()\n",
    "            train_pbar.set_postfix({\n",
    "                'Loss': f'{loss.item():.4f}', \n",
    "                'Dice': f'{dice:.3f}', \n",
    "                'Jaccard': f'{jaccard:.3f}'\n",
    "            })\n",
    "        \n",
    "        # Validation phase\n",
    "        model.eval()\n",
    "        val_loss = 0.0\n",
    "        val_dice = 0.0\n",
    "        val_jaccard = 0.0\n",
    "        \n",
    "        with torch.no_grad():\n",
    "            val_pbar = tqdm(val_loader, desc=f'Epoch {epoch+1}/{num_epochs} - Validation')\n",
    "            for images, masks in val_pbar:\n",
    "                images, masks = images.to(device), masks.to(device)\n",
    "                outputs = model(images)\n",
    "                loss = criterion(outputs, masks)\n",
    "                \n",
    "                # Calculate metrics (outputs are logits now)\n",
    "                dice = calculate_dice_batch(outputs, masks)\n",
    "                jaccard = calculate_jaccard_batch(outputs, masks)\n",
    "                val_dice += dice\n",
    "                val_jaccard += jaccard\n",
    "                \n",
    "                val_loss += loss.item()\n",
    "                val_pbar.set_postfix({\n",
    "                    'Loss': f'{loss.item():.4f}', \n",
    "                    'Dice': f'{dice:.3f}', \n",
    "                    'Jaccard': f'{jaccard:.3f}'\n",
    "                })\n",
    "        \n",
    "        # Calculate averages\n",
    "        train_loss /= len(train_loader)\n",
    "        val_loss /= len(val_loader)\n",
    "        train_dice /= len(train_loader)\n",
    "        val_dice /= len(val_loader)\n",
    "        train_jaccard /= len(train_loader)\n",
    "        val_jaccard /= len(val_loader)\n",
    "        \n",
    "        # Update learning rate\n",
    "        current_lr = optimizer.param_groups[0]['lr']\n",
    "        scheduler.step()\n",
    "        new_lr = optimizer.param_groups[0]['lr']\n",
    "        \n",
    "        # Store history\n",
    "        history['train_losses'].append(train_loss)\n",
    "        history['val_losses'].append(val_loss)\n",
    "        history['train_dice'].append(train_dice)\n",
    "        history['val_dice'].append(val_dice)\n",
    "        history['train_jaccard'].append(train_jaccard)\n",
    "        history['val_jaccard'].append(val_jaccard)\n",
    "        history['learning_rates'].append(current_lr)\n",
    "        \n",
    "        # Print epoch summary\n",
    "        if abs(current_lr - new_lr) > 1e-8:\n",
    "            print(f\"  Learning rate changed: {current_lr:.6f} -> {new_lr:.6f}\")\n",
    "        \n",
    "        print(f\"Epoch {epoch+1}/{num_epochs}:\")\n",
    "        print(f\"  Train Loss: {train_loss:.4f}, Train Dice: {train_dice:.4f}, Train Jaccard: {train_jaccard:.4f}\")\n",
    "        print(f\"  Val Loss: {val_loss:.4f}, Val Dice: {val_dice:.4f}, Val Jaccard: {val_jaccard:.4f}\")\n",
    "        print(f\"  LR: {current_lr:.6f}\")\n",
    "        print(\"-\" * 70)\n",
    "        \n",
    "        # Save best model and early stopping logic\n",
    "        if val_loss < best_val_loss - min_delta:\n",
    "            best_val_loss = val_loss\n",
    "            patience_counter = 0\n",
    "            torch.save(model.state_dict(), 'models/pure_vit_model_best.pth')\n",
    "            print(f\"✅ New best validation loss: {val_loss:.4f} (patience reset)\")\n",
    "        else:\n",
    "            patience_counter += 1\n",
    "            print(f\"⏳ No improvement. Patience: {patience_counter}/{patience}\")\n",
    "            \n",
    "            if patience_counter >= patience:\n",
    "                print(f\"\\n🛑 Early stopping triggered after {epoch+1} epochs!\")\n",
    "                print(f\"   Best validation loss: {best_val_loss:.4f}\")\n",
    "                early_stopped = True\n",
    "                break\n",
    "    \n",
    "    # Training completion message\n",
    "    if early_stopped:\n",
    "        print(f\"\\n🏁 Training stopped early at epoch {epoch+1}/{num_epochs}\")\n",
    "    else:\n",
    "        print(f\"\\n🏁 Training completed all {num_epochs} epochs\")\n",
    "    \n",
    "    print(f\"📊 Final best validation loss: {best_val_loss:.4f}\")\n",
    "    \n",
    "    return history\n",
    "\n",
    "print(\"✅ Training function đã được định nghĩa!\")"
   ]
  },
  {
   "cell_type": "markdown",
   "metadata": {},
   "source": [
    "## 7. Bắt đầu Training"
   ]
  },
  {
   "cell_type": "code",
   "execution_count": 9,
   "metadata": {},
   "outputs": [
    {
     "name": "stdout",
     "output_type": "stream",
     "text": [
      "🚀 Bắt đầu training Pure ViT Segmentation...\n",
      "⏰ Thời gian dự kiến: ~1-2 giờ (với early stopping)\n",
      "\n",
      "🚀 Bắt đầu training Pure ViT Segmentation...\n",
      "📊 Configuration:\n",
      "   - Epochs: 25\n",
      "   - Learning Rate: 0.0001\n",
      "   - Early Stopping: Patience=5, Min Delta=0.001\n",
      "   - Warmup Epochs: 5\n",
      "   - Scheduler: Cosine Annealing với Warmup\n",
      "   - Loss: Combined (BCE + Dice)\n",
      "======================================================================\n"
     ]
    },
    {
     "name": "stderr",
     "output_type": "stream",
     "text": [
      "Epoch 1/25 - Training: 100%|██████████| 2594/2594 [01:16<00:00, 33.88it/s, Loss=0.0961, Dice=0.177, Jaccard=0.097]\n",
      "Epoch 1/25 - Validation: 100%|██████████| 100/100 [00:01<00:00, 56.79it/s, Loss=0.7495, Dice=0.268, Jaccard=0.155]\n"
     ]
    },
    {
     "name": "stdout",
     "output_type": "stream",
     "text": [
      "  Learning rate changed: 0.000001 -> 0.000021\n",
      "Epoch 1/25:\n",
      "  Train Loss: 0.0895, Train Dice: 0.2777, Train Jaccard: 0.1744\n",
      "  Val Loss: 0.6687, Val Dice: 0.4106, Val Jaccard: 0.2685\n",
      "  LR: 0.000001\n",
      "----------------------------------------------------------------------\n",
      "✅ New best validation loss: 0.6687 (patience reset)\n"
     ]
    },
    {
     "name": "stderr",
     "output_type": "stream",
     "text": [
      "Epoch 2/25 - Training: 100%|██████████| 2594/2594 [01:15<00:00, 34.55it/s, Loss=0.0280, Dice=0.793, Jaccard=0.656]\n",
      "Epoch 2/25 - Validation: 100%|██████████| 100/100 [00:01<00:00, 57.47it/s, Loss=0.1674, Dice=0.874, Jaccard=0.776]\n"
     ]
    },
    {
     "name": "stdout",
     "output_type": "stream",
     "text": [
      "  Learning rate changed: 0.000021 -> 0.000041\n",
      "Epoch 2/25:\n",
      "  Train Loss: 0.0590, Train Dice: 0.5441, Train Jaccard: 0.4020\n",
      "  Val Loss: 0.3154, Val Dice: 0.7312, Val Jaccard: 0.5922\n",
      "  LR: 0.000021\n",
      "----------------------------------------------------------------------\n",
      "✅ New best validation loss: 0.3154 (patience reset)\n"
     ]
    },
    {
     "name": "stderr",
     "output_type": "stream",
     "text": [
      "Epoch 3/25 - Training: 100%|██████████| 2594/2594 [01:15<00:00, 34.29it/s, Loss=0.0532, Dice=0.405, Jaccard=0.254]\n",
      "Epoch 3/25 - Validation: 100%|██████████| 100/100 [00:01<00:00, 58.13it/s, Loss=0.1977, Dice=0.787, Jaccard=0.649]\n"
     ]
    },
    {
     "name": "stdout",
     "output_type": "stream",
     "text": [
      "  Learning rate changed: 0.000041 -> 0.000060\n",
      "Epoch 3/25:\n",
      "  Train Loss: 0.0431, Train Dice: 0.6364, Train Jaccard: 0.4984\n",
      "  Val Loss: 0.2852, Val Dice: 0.7518, Val Jaccard: 0.6209\n",
      "  LR: 0.000041\n",
      "----------------------------------------------------------------------\n",
      "✅ New best validation loss: 0.2852 (patience reset)\n"
     ]
    },
    {
     "name": "stderr",
     "output_type": "stream",
     "text": [
      "Epoch 4/25 - Training: 100%|██████████| 2594/2594 [01:14<00:00, 34.68it/s, Loss=0.0388, Dice=0.587, Jaccard=0.416]\n",
      "Epoch 4/25 - Validation: 100%|██████████| 100/100 [00:01<00:00, 63.11it/s, Loss=0.1434, Dice=0.825, Jaccard=0.702]\n"
     ]
    },
    {
     "name": "stdout",
     "output_type": "stream",
     "text": [
      "  Learning rate changed: 0.000060 -> 0.000080\n",
      "Epoch 4/25:\n",
      "  Train Loss: 0.0402, Train Dice: 0.6571, Train Jaccard: 0.5208\n",
      "  Val Loss: 0.2686, Val Dice: 0.7575, Val Jaccard: 0.6273\n",
      "  LR: 0.000060\n",
      "----------------------------------------------------------------------\n",
      "✅ New best validation loss: 0.2686 (patience reset)\n"
     ]
    },
    {
     "name": "stderr",
     "output_type": "stream",
     "text": [
      "Epoch 5/25 - Training: 100%|██████████| 2594/2594 [01:14<00:00, 35.05it/s, Loss=0.0879, Dice=0.442, Jaccard=0.284]\n",
      "Epoch 5/25 - Validation: 100%|██████████| 100/100 [00:01<00:00, 62.25it/s, Loss=0.2100, Dice=0.743, Jaccard=0.592]\n"
     ]
    },
    {
     "name": "stdout",
     "output_type": "stream",
     "text": [
      "  Learning rate changed: 0.000080 -> 0.000100\n",
      "Epoch 5/25:\n",
      "  Train Loss: 0.0360, Train Dice: 0.7000, Train Jaccard: 0.5651\n",
      "  Val Loss: 0.2726, Val Dice: 0.7710, Val Jaccard: 0.6401\n",
      "  LR: 0.000080\n",
      "----------------------------------------------------------------------\n",
      "⏳ No improvement. Patience: 1/5\n"
     ]
    },
    {
     "name": "stderr",
     "output_type": "stream",
     "text": [
      "Epoch 6/25 - Training: 100%|██████████| 2594/2594 [01:16<00:00, 34.09it/s, Loss=0.0177, Dice=0.815, Jaccard=0.687]\n",
      "Epoch 6/25 - Validation: 100%|██████████| 100/100 [00:01<00:00, 58.59it/s, Loss=0.1191, Dice=0.853, Jaccard=0.744]\n"
     ]
    },
    {
     "name": "stdout",
     "output_type": "stream",
     "text": [
      "  Learning rate changed: 0.000100 -> 0.000099\n",
      "Epoch 6/25:\n",
      "  Train Loss: 0.0322, Train Dice: 0.7405, Train Jaccard: 0.6107\n",
      "  Val Loss: 0.2130, Val Dice: 0.8304, Val Jaccard: 0.7200\n",
      "  LR: 0.000100\n",
      "----------------------------------------------------------------------\n",
      "✅ New best validation loss: 0.2130 (patience reset)\n"
     ]
    },
    {
     "name": "stderr",
     "output_type": "stream",
     "text": [
      "Epoch 7/25 - Training: 100%|██████████| 2594/2594 [01:16<00:00, 33.98it/s, Loss=0.0170, Dice=0.852, Jaccard=0.742]\n",
      "Epoch 7/25 - Validation: 100%|██████████| 100/100 [00:01<00:00, 56.89it/s, Loss=0.1189, Dice=0.857, Jaccard=0.750]\n"
     ]
    },
    {
     "name": "stdout",
     "output_type": "stream",
     "text": [
      "  Learning rate changed: 0.000099 -> 0.000098\n",
      "Epoch 7/25:\n",
      "  Train Loss: 0.0279, Train Dice: 0.7778, Train Jaccard: 0.6558\n",
      "  Val Loss: 0.2166, Val Dice: 0.8292, Val Jaccard: 0.7189\n",
      "  LR: 0.000099\n",
      "----------------------------------------------------------------------\n",
      "⏳ No improvement. Patience: 1/5\n"
     ]
    },
    {
     "name": "stderr",
     "output_type": "stream",
     "text": [
      "Epoch 8/25 - Training: 100%|██████████| 2594/2594 [01:15<00:00, 34.32it/s, Loss=0.0111, Dice=0.872, Jaccard=0.774]\n",
      "Epoch 8/25 - Validation: 100%|██████████| 100/100 [00:01<00:00, 63.11it/s, Loss=0.1142, Dice=0.861, Jaccard=0.756]\n"
     ]
    },
    {
     "name": "stdout",
     "output_type": "stream",
     "text": [
      "  Learning rate changed: 0.000098 -> 0.000095\n",
      "Epoch 8/25:\n",
      "  Train Loss: 0.0258, Train Dice: 0.7949, Train Jaccard: 0.6773\n",
      "  Val Loss: 0.1919, Val Dice: 0.8452, Val Jaccard: 0.7437\n",
      "  LR: 0.000098\n",
      "----------------------------------------------------------------------\n",
      "✅ New best validation loss: 0.1919 (patience reset)\n"
     ]
    },
    {
     "name": "stderr",
     "output_type": "stream",
     "text": [
      "Epoch 9/25 - Training: 100%|██████████| 2594/2594 [01:15<00:00, 34.57it/s, Loss=0.0197, Dice=0.772, Jaccard=0.628]\n",
      "Epoch 9/25 - Validation: 100%|██████████| 100/100 [00:01<00:00, 55.84it/s, Loss=0.1038, Dice=0.880, Jaccard=0.786]\n"
     ]
    },
    {
     "name": "stdout",
     "output_type": "stream",
     "text": [
      "  Learning rate changed: 0.000095 -> 0.000091\n",
      "Epoch 9/25:\n",
      "  Train Loss: 0.0247, Train Dice: 0.8077, Train Jaccard: 0.6930\n",
      "  Val Loss: 0.2006, Val Dice: 0.8411, Val Jaccard: 0.7359\n",
      "  LR: 0.000095\n",
      "----------------------------------------------------------------------\n",
      "⏳ No improvement. Patience: 1/5\n"
     ]
    },
    {
     "name": "stderr",
     "output_type": "stream",
     "text": [
      "Epoch 10/25 - Training: 100%|██████████| 2594/2594 [01:15<00:00, 34.49it/s, Loss=0.0315, Dice=0.763, Jaccard=0.617]\n",
      "Epoch 10/25 - Validation: 100%|██████████| 100/100 [00:01<00:00, 56.62it/s, Loss=0.1325, Dice=0.833, Jaccard=0.714]\n"
     ]
    },
    {
     "name": "stdout",
     "output_type": "stream",
     "text": [
      "  Learning rate changed: 0.000091 -> 0.000086\n",
      "Epoch 10/25:\n",
      "  Train Loss: 0.0237, Train Dice: 0.8147, Train Jaccard: 0.7021\n",
      "  Val Loss: 0.2163, Val Dice: 0.8252, Val Jaccard: 0.7136\n",
      "  LR: 0.000091\n",
      "----------------------------------------------------------------------\n",
      "⏳ No improvement. Patience: 2/5\n"
     ]
    },
    {
     "name": "stderr",
     "output_type": "stream",
     "text": [
      "Epoch 11/25 - Training: 100%|██████████| 2594/2594 [01:15<00:00, 34.25it/s, Loss=0.0215, Dice=0.766, Jaccard=0.621]\n",
      "Epoch 11/25 - Validation: 100%|██████████| 100/100 [00:01<00:00, 62.38it/s, Loss=0.1232, Dice=0.851, Jaccard=0.740]\n"
     ]
    },
    {
     "name": "stdout",
     "output_type": "stream",
     "text": [
      "  Learning rate changed: 0.000086 -> 0.000080\n",
      "Epoch 11/25:\n",
      "  Train Loss: 0.0228, Train Dice: 0.8223, Train Jaccard: 0.7128\n",
      "  Val Loss: 0.1905, Val Dice: 0.8452, Val Jaccard: 0.7413\n",
      "  LR: 0.000086\n",
      "----------------------------------------------------------------------\n",
      "✅ New best validation loss: 0.1905 (patience reset)\n"
     ]
    },
    {
     "name": "stderr",
     "output_type": "stream",
     "text": [
      "Epoch 12/25 - Training: 100%|██████████| 2594/2594 [01:15<00:00, 34.26it/s, Loss=0.0147, Dice=0.937, Jaccard=0.881]\n",
      "Epoch 12/25 - Validation: 100%|██████████| 100/100 [00:01<00:00, 61.72it/s, Loss=0.1527, Dice=0.807, Jaccard=0.677]\n"
     ]
    },
    {
     "name": "stdout",
     "output_type": "stream",
     "text": [
      "  Learning rate changed: 0.000080 -> 0.000073\n",
      "Epoch 12/25:\n",
      "  Train Loss: 0.0222, Train Dice: 0.8273, Train Jaccard: 0.7193\n",
      "  Val Loss: 0.1980, Val Dice: 0.8387, Val Jaccard: 0.7308\n",
      "  LR: 0.000080\n",
      "----------------------------------------------------------------------\n",
      "⏳ No improvement. Patience: 1/5\n"
     ]
    },
    {
     "name": "stderr",
     "output_type": "stream",
     "text": [
      "Epoch 13/25 - Training: 100%|██████████| 2594/2594 [01:15<00:00, 34.56it/s, Loss=0.0296, Dice=0.848, Jaccard=0.736]\n",
      "Epoch 13/25 - Validation: 100%|██████████| 100/100 [00:01<00:00, 63.00it/s, Loss=0.1476, Dice=0.816, Jaccard=0.689]\n"
     ]
    },
    {
     "name": "stdout",
     "output_type": "stream",
     "text": [
      "  Learning rate changed: 0.000073 -> 0.000066\n",
      "Epoch 13/25:\n",
      "  Train Loss: 0.0211, Train Dice: 0.8348, Train Jaccard: 0.7294\n",
      "  Val Loss: 0.1774, Val Dice: 0.8562, Val Jaccard: 0.7567\n",
      "  LR: 0.000073\n",
      "----------------------------------------------------------------------\n",
      "✅ New best validation loss: 0.1774 (patience reset)\n"
     ]
    },
    {
     "name": "stderr",
     "output_type": "stream",
     "text": [
      "Epoch 14/25 - Training: 100%|██████████| 2594/2594 [01:14<00:00, 34.83it/s, Loss=0.0175, Dice=0.793, Jaccard=0.658]\n",
      "Epoch 14/25 - Validation: 100%|██████████| 100/100 [00:01<00:00, 59.90it/s, Loss=0.1418, Dice=0.820, Jaccard=0.695]\n"
     ]
    },
    {
     "name": "stdout",
     "output_type": "stream",
     "text": [
      "  Learning rate changed: 0.000066 -> 0.000058\n",
      "Epoch 14/25:\n",
      "  Train Loss: 0.0205, Train Dice: 0.8385, Train Jaccard: 0.7353\n",
      "  Val Loss: 0.1822, Val Dice: 0.8490, Val Jaccard: 0.7459\n",
      "  LR: 0.000066\n",
      "----------------------------------------------------------------------\n",
      "⏳ No improvement. Patience: 1/5\n"
     ]
    },
    {
     "name": "stderr",
     "output_type": "stream",
     "text": [
      "Epoch 15/25 - Training: 100%|██████████| 2594/2594 [01:15<00:00, 34.29it/s, Loss=0.0118, Dice=0.851, Jaccard=0.741]\n",
      "Epoch 15/25 - Validation: 100%|██████████| 100/100 [00:01<00:00, 62.63it/s, Loss=0.1660, Dice=0.788, Jaccard=0.651]\n"
     ]
    },
    {
     "name": "stdout",
     "output_type": "stream",
     "text": [
      "  Learning rate changed: 0.000058 -> 0.000051\n",
      "Epoch 15/25:\n",
      "  Train Loss: 0.0198, Train Dice: 0.8439, Train Jaccard: 0.7426\n",
      "  Val Loss: 0.1932, Val Dice: 0.8480, Val Jaccard: 0.7458\n",
      "  LR: 0.000058\n",
      "----------------------------------------------------------------------\n",
      "⏳ No improvement. Patience: 2/5\n"
     ]
    },
    {
     "name": "stderr",
     "output_type": "stream",
     "text": [
      "Epoch 16/25 - Training: 100%|██████████| 2594/2594 [01:14<00:00, 34.64it/s, Loss=0.0233, Dice=0.899, Jaccard=0.817]\n",
      "Epoch 16/25 - Validation: 100%|██████████| 100/100 [00:01<00:00, 65.14it/s, Loss=0.1735, Dice=0.792, Jaccard=0.656]\n"
     ]
    },
    {
     "name": "stdout",
     "output_type": "stream",
     "text": [
      "  Learning rate changed: 0.000051 -> 0.000043\n",
      "Epoch 16/25:\n",
      "  Train Loss: 0.0193, Train Dice: 0.8483, Train Jaccard: 0.7485\n",
      "  Val Loss: 0.1761, Val Dice: 0.8614, Val Jaccard: 0.7651\n",
      "  LR: 0.000051\n",
      "----------------------------------------------------------------------\n",
      "✅ New best validation loss: 0.1761 (patience reset)\n"
     ]
    },
    {
     "name": "stderr",
     "output_type": "stream",
     "text": [
      "Epoch 17/25 - Training: 100%|██████████| 2594/2594 [01:14<00:00, 34.69it/s, Loss=0.0143, Dice=0.830, Jaccard=0.709]\n",
      "Epoch 17/25 - Validation: 100%|██████████| 100/100 [00:01<00:00, 60.65it/s, Loss=0.2308, Dice=0.738, Jaccard=0.584]\n"
     ]
    },
    {
     "name": "stdout",
     "output_type": "stream",
     "text": [
      "  Learning rate changed: 0.000043 -> 0.000035\n",
      "Epoch 17/25:\n",
      "  Train Loss: 0.0187, Train Dice: 0.8534, Train Jaccard: 0.7556\n",
      "  Val Loss: 0.1822, Val Dice: 0.8501, Val Jaccard: 0.7478\n",
      "  LR: 0.000043\n",
      "----------------------------------------------------------------------\n",
      "⏳ No improvement. Patience: 1/5\n"
     ]
    },
    {
     "name": "stderr",
     "output_type": "stream",
     "text": [
      "Epoch 18/25 - Training: 100%|██████████| 2594/2594 [01:14<00:00, 34.85it/s, Loss=0.0156, Dice=0.891, Jaccard=0.803]\n",
      "Epoch 18/25 - Validation: 100%|██████████| 100/100 [00:01<00:00, 64.36it/s, Loss=0.1597, Dice=0.803, Jaccard=0.671]\n"
     ]
    },
    {
     "name": "stdout",
     "output_type": "stream",
     "text": [
      "  Learning rate changed: 0.000035 -> 0.000028\n",
      "Epoch 18/25:\n",
      "  Train Loss: 0.0180, Train Dice: 0.8575, Train Jaccard: 0.7617\n",
      "  Val Loss: 0.1812, Val Dice: 0.8548, Val Jaccard: 0.7551\n",
      "  LR: 0.000035\n",
      "----------------------------------------------------------------------\n",
      "⏳ No improvement. Patience: 2/5\n"
     ]
    },
    {
     "name": "stderr",
     "output_type": "stream",
     "text": [
      "Epoch 19/25 - Training: 100%|██████████| 2594/2594 [01:16<00:00, 33.71it/s, Loss=0.0151, Dice=0.904, Jaccard=0.826]\n",
      "Epoch 19/25 - Validation: 100%|██████████| 100/100 [00:01<00:00, 61.26it/s, Loss=0.1662, Dice=0.799, Jaccard=0.665]\n"
     ]
    },
    {
     "name": "stdout",
     "output_type": "stream",
     "text": [
      "  Learning rate changed: 0.000028 -> 0.000021\n",
      "Epoch 19/25:\n",
      "  Train Loss: 0.0180, Train Dice: 0.8591, Train Jaccard: 0.7642\n",
      "  Val Loss: 0.1654, Val Dice: 0.8636, Val Jaccard: 0.7678\n",
      "  LR: 0.000028\n",
      "----------------------------------------------------------------------\n",
      "✅ New best validation loss: 0.1654 (patience reset)\n"
     ]
    },
    {
     "name": "stderr",
     "output_type": "stream",
     "text": [
      "Epoch 20/25 - Training: 100%|██████████| 2594/2594 [01:16<00:00, 33.98it/s, Loss=0.0285, Dice=0.670, Jaccard=0.503]\n",
      "Epoch 20/25 - Validation: 100%|██████████| 100/100 [00:01<00:00, 61.89it/s, Loss=0.1384, Dice=0.826, Jaccard=0.704]\n"
     ]
    },
    {
     "name": "stdout",
     "output_type": "stream",
     "text": [
      "  Learning rate changed: 0.000021 -> 0.000015\n",
      "Epoch 20/25:\n",
      "  Train Loss: 0.0172, Train Dice: 0.8633, Train Jaccard: 0.7700\n",
      "  Val Loss: 0.1621, Val Dice: 0.8705, Val Jaccard: 0.7778\n",
      "  LR: 0.000021\n",
      "----------------------------------------------------------------------\n",
      "✅ New best validation loss: 0.1621 (patience reset)\n"
     ]
    },
    {
     "name": "stderr",
     "output_type": "stream",
     "text": [
      "Epoch 21/25 - Training: 100%|██████████| 2594/2594 [01:13<00:00, 35.12it/s, Loss=0.0219, Dice=0.711, Jaccard=0.551]\n",
      "Epoch 21/25 - Validation: 100%|██████████| 100/100 [00:01<00:00, 54.77it/s, Loss=0.1485, Dice=0.817, Jaccard=0.690]\n"
     ]
    },
    {
     "name": "stdout",
     "output_type": "stream",
     "text": [
      "  Learning rate changed: 0.000015 -> 0.000010\n",
      "Epoch 21/25:\n",
      "  Train Loss: 0.0169, Train Dice: 0.8661, Train Jaccard: 0.7739\n",
      "  Val Loss: 0.1564, Val Dice: 0.8745, Val Jaccard: 0.7841\n",
      "  LR: 0.000015\n",
      "----------------------------------------------------------------------\n",
      "✅ New best validation loss: 0.1564 (patience reset)\n"
     ]
    },
    {
     "name": "stderr",
     "output_type": "stream",
     "text": [
      "Epoch 22/25 - Training: 100%|██████████| 2594/2594 [01:14<00:00, 34.62it/s, Loss=0.0138, Dice=0.958, Jaccard=0.920]\n",
      "Epoch 22/25 - Validation: 100%|██████████| 100/100 [00:01<00:00, 63.64it/s, Loss=0.1493, Dice=0.814, Jaccard=0.686]\n"
     ]
    },
    {
     "name": "stdout",
     "output_type": "stream",
     "text": [
      "  Learning rate changed: 0.000010 -> 0.000006\n",
      "Epoch 22/25:\n",
      "  Train Loss: 0.0168, Train Dice: 0.8680, Train Jaccard: 0.7764\n",
      "  Val Loss: 0.1573, Val Dice: 0.8724, Val Jaccard: 0.7808\n",
      "  LR: 0.000010\n",
      "----------------------------------------------------------------------\n",
      "⏳ No improvement. Patience: 1/5\n"
     ]
    },
    {
     "name": "stderr",
     "output_type": "stream",
     "text": [
      "Epoch 23/25 - Training: 100%|██████████| 2594/2594 [01:15<00:00, 34.50it/s, Loss=0.0086, Dice=0.923, Jaccard=0.857]\n",
      "Epoch 23/25 - Validation: 100%|██████████| 100/100 [00:01<00:00, 63.37it/s, Loss=0.1396, Dice=0.826, Jaccard=0.704]\n"
     ]
    },
    {
     "name": "stdout",
     "output_type": "stream",
     "text": [
      "  Learning rate changed: 0.000006 -> 0.000003\n",
      "Epoch 23/25:\n",
      "  Train Loss: 0.0164, Train Dice: 0.8708, Train Jaccard: 0.7801\n",
      "  Val Loss: 0.1531, Val Dice: 0.8767, Val Jaccard: 0.7872\n",
      "  LR: 0.000006\n",
      "----------------------------------------------------------------------\n",
      "✅ New best validation loss: 0.1531 (patience reset)\n"
     ]
    },
    {
     "name": "stderr",
     "output_type": "stream",
     "text": [
      "Epoch 24/25 - Training: 100%|██████████| 2594/2594 [01:11<00:00, 36.15it/s, Loss=0.0111, Dice=0.928, Jaccard=0.865]\n",
      "Epoch 24/25 - Validation: 100%|██████████| 100/100 [00:01<00:00, 64.11it/s, Loss=0.1378, Dice=0.827, Jaccard=0.706]\n"
     ]
    },
    {
     "name": "stdout",
     "output_type": "stream",
     "text": [
      "  Learning rate changed: 0.000003 -> 0.000002\n",
      "Epoch 24/25:\n",
      "  Train Loss: 0.0163, Train Dice: 0.8713, Train Jaccard: 0.7811\n",
      "  Val Loss: 0.1508, Val Dice: 0.8779, Val Jaccard: 0.7890\n",
      "  LR: 0.000003\n",
      "----------------------------------------------------------------------\n",
      "✅ New best validation loss: 0.1508 (patience reset)\n"
     ]
    },
    {
     "name": "stderr",
     "output_type": "stream",
     "text": [
      "Epoch 25/25 - Training: 100%|██████████| 2594/2594 [01:12<00:00, 35.68it/s, Loss=0.0084, Dice=0.924, Jaccard=0.859]\n",
      "Epoch 25/25 - Validation: 100%|██████████| 100/100 [00:01<00:00, 65.52it/s, Loss=0.1484, Dice=0.816, Jaccard=0.689]"
     ]
    },
    {
     "name": "stdout",
     "output_type": "stream",
     "text": [
      "  Learning rate changed: 0.000002 -> 0.000001\n",
      "Epoch 25/25:\n",
      "  Train Loss: 0.0163, Train Dice: 0.8716, Train Jaccard: 0.7817\n",
      "  Val Loss: 0.1534, Val Dice: 0.8755, Val Jaccard: 0.7852\n",
      "  LR: 0.000002\n",
      "----------------------------------------------------------------------\n",
      "⏳ No improvement. Patience: 1/5\n",
      "\n",
      "🏁 Training completed all 25 epochs\n",
      "📊 Final best validation loss: 0.1508\n",
      "\n",
      "🎉 Pure ViT Segmentation training hoàn thành!\n",
      "💾 Model đã được lưu:\n",
      "   - models/pure_vit_model_best.pth (best validation loss)\n",
      "   - models/pure_vit_model_final.pth (final epoch)\n"
     ]
    },
    {
     "name": "stderr",
     "output_type": "stream",
     "text": [
      "\n"
     ]
    }
   ],
   "source": [
    "# Train the Pure ViT Segmentation model\n",
    "print(\"🚀 Bắt đầu training Pure ViT Segmentation...\")\n",
    "print(\"⏰ Thời gian dự kiến: ~1-2 giờ (với early stopping)\")\n",
    "print()\n",
    "\n",
    "pure_vit_history = train_pure_vit(\n",
    "    model=model,\n",
    "    train_loader=train_loader,\n",
    "    val_loader=val_loader,\n",
    "    num_epochs=25,\n",
    "    lr=1e-4,\n",
    "    warmup_epochs=5,\n",
    "    patience=5,      # Dừng sớm sau 5 epochs không cải thiện\n",
    "    min_delta=0.001  # Cải thiện tối thiểu 0.001 để được tính\n",
    ")\n",
    "\n",
    "# Save final model\n",
    "torch.save(model.state_dict(), 'models/pure_vit_model_final.pth')\n",
    "print(\"\\n🎉 Pure ViT Segmentation training hoàn thành!\")\n",
    "print(\"💾 Model đã được lưu:\")\n",
    "print(\"   - models/pure_vit_model_best.pth (best validation loss)\")\n",
    "print(\"   - models/pure_vit_model_final.pth (final epoch)\")"
   ]
  },
  {
   "cell_type": "markdown",
   "metadata": {},
   "source": [
    "## 8. Visualization và Evaluation"
   ]
  },
  {
   "cell_type": "code",
   "execution_count": 10,
   "metadata": {},
   "outputs": [
    {
     "name": "stdout",
     "output_type": "stream",
     "text": [
      "📊 Hiển thị training history:\n"
     ]
    },
    {
     "data": {
      "image/png": "[encoded data removed]",
      "text/plain": [
       "<Figure size 1500x1000 with 4 Axes>"
      ]
     },
     "metadata": {},
     "output_type": "display_data"
    }
   ],
   "source": [
    "def plot_training_history(history, model_name):\n",
    "    \"\"\"Plot training history\"\"\"\n",
    "    fig, axes = plt.subplots(2, 2, figsize=(15, 10))\n",
    "    fig.suptitle(f'{model_name} Training History', fontsize=16)\n",
    "    \n",
    "    # Loss plot\n",
    "    axes[0, 0].plot(history['train_losses'], label='Train Loss', color='blue')\n",
    "    axes[0, 0].plot(history['val_losses'], label='Val Loss', color='red')\n",
    "    axes[0, 0].set_title('Loss')\n",
    "    axes[0, 0].set_xlabel('Epoch')\n",
    "    axes[0, 0].set_ylabel('Loss')\n",
    "    axes[0, 0].legend()\n",
    "    axes[0, 0].grid(True)\n",
    "    \n",
    "    # Dice plot\n",
    "    axes[0, 1].plot(history['train_dice'], label='Train Dice', color='blue')\n",
    "    axes[0, 1].plot(history['val_dice'], label='Val Dice', color='red')\n",
    "    axes[0, 1].set_title('Dice Coefficient')\n",
    "    axes[0, 1].set_xlabel('Epoch')\n",
    "    axes[0, 1].set_ylabel('Dice')\n",
    "    axes[0, 1].legend()\n",
    "    axes[0, 1].grid(True)\n",
    "    \n",
    "    # Jaccard plot\n",
    "    axes[1, 0].plot(history['train_jaccard'], label='Train Jaccard', color='blue')\n",
    "    axes[1, 0].plot(history['val_jaccard'], label='Val Jaccard', color='red')\n",
    "    axes[1, 0].set_title('Jaccard Index (IoU)')\n",
    "    axes[1, 0].set_xlabel('Epoch')\n",
    "    axes[1, 0].set_ylabel('Jaccard')\n",
    "    axes[1, 0].legend()\n",
    "    axes[1, 0].grid(True)\n",
    "    \n",
    "    # Learning rate plot\n",
    "    axes[1, 1].plot(history['learning_rates'], label='Learning Rate', color='green')\n",
    "    axes[1, 1].set_title('Learning Rate')\n",
    "    axes[1, 1].set_xlabel('Epoch')\n",
    "    axes[1, 1].set_ylabel('LR')\n",
    "    axes[1, 1].legend()\n",
    "    axes[1, 1].grid(True)\n",
    "    \n",
    "    plt.tight_layout()\n",
    "    plt.show()\n",
    "\n",
    "# Plot training history\n",
    "print(\"📊 Hiển thị training history:\")\n",
    "plot_training_history(pure_vit_history, \"Pure ViT\")"
   ]
  },
  {
   "cell_type": "code",
   "execution_count": 11,
   "metadata": {},
   "outputs": [
    {
     "name": "stdout",
     "output_type": "stream",
     "text": [
      "\n",
      "======================================================================\n",
      "🎯 PURE ViT SEGMENTATION TRAINING SUMMARY\n",
      "======================================================================\n",
      "\n",
      "📈 Training Results:\n",
      "   - Final Training Loss: 0.0163\n",
      "   - Final Validation Loss: 0.1534\n",
      "   - Final Training Dice: 0.8716\n",
      "   - Final Validation Dice: 0.8755\n",
      "   - Final Training Jaccard: 0.7817\n",
      "   - Final Validation Jaccard: 0.7852\n",
      "\n",
      "🏆 Best Metrics:\n",
      "   - Best Validation Dice: 0.8779 (Epoch 24)\n",
      "   - Best Validation Jaccard: 0.7890 (Epoch 24)\n",
      "\n",
      "💾 Saved Models:\n",
      "   - models/pure_vit_model_best.pth\n",
      "   - models/pure_vit_model_final.pth\n",
      "\n",
      "📈 Model Performance:\n",
      "   ✅ Excellent performance! Dice > 0.85\n",
      "\n",
      "🚀 Next Steps:\n",
      "   1. Test model trên test set (notebook 06)\n",
      "   2. So sánh với các models khác\n",
      "   3. Fine-tune hyperparameters nếu cần\n",
      "   4. Deploy model cho production\n",
      "\n",
      "======================================================================\n",
      "🎉 Pure ViT Segmentation Training hoàn thành!\n",
      "======================================================================\n"
     ]
    }
   ],
   "source": [
    "# Training Summary\n",
    "print(\"\\n\" + \"=\"*70)\n",
    "print(\"🎯 PURE ViT SEGMENTATION TRAINING SUMMARY\")\n",
    "print(\"=\"*70)\n",
    "\n",
    "print(f\"\\n📈 Training Results:\")\n",
    "print(f\"   - Final Training Loss: {pure_vit_history['train_losses'][-1]:.4f}\")\n",
    "print(f\"   - Final Validation Loss: {pure_vit_history['val_losses'][-1]:.4f}\")\n",
    "print(f\"   - Final Training Dice: {pure_vit_history['train_dice'][-1]:.4f}\")\n",
    "print(f\"   - Final Validation Dice: {pure_vit_history['val_dice'][-1]:.4f}\")\n",
    "print(f\"   - Final Training Jaccard: {pure_vit_history['train_jaccard'][-1]:.4f}\")\n",
    "print(f\"   - Final Validation Jaccard: {pure_vit_history['val_jaccard'][-1]:.4f}\")\n",
    "\n",
    "print(f\"\\n🏆 Best Metrics:\")\n",
    "best_val_dice_idx = np.argmax(pure_vit_history['val_dice'])\n",
    "best_val_jaccard_idx = np.argmax(pure_vit_history['val_jaccard'])\n",
    "print(f\"   - Best Validation Dice: {max(pure_vit_history['val_dice']):.4f} (Epoch {best_val_dice_idx + 1})\")\n",
    "print(f\"   - Best Validation Jaccard: {max(pure_vit_history['val_jaccard']):.4f} (Epoch {best_val_jaccard_idx + 1})\")\n",
    "\n",
    "print(f\"\\n💾 Saved Models:\")\n",
    "print(f\"   - models/pure_vit_model_best.pth\")\n",
    "print(f\"   - models/pure_vit_model_final.pth\")\n",
    "\n",
    "print(f\"\\n📈 Model Performance:\")\n",
    "final_dice = pure_vit_history['val_dice'][-1]\n",
    "final_jaccard = pure_vit_history['val_jaccard'][-1]\n",
    "\n",
    "if final_dice > 0.85:\n",
    "    print(f\"   ✅ Excellent performance! Dice > 0.85\")\n",
    "elif final_dice > 0.75:\n",
    "    print(f\"   ✅ Good performance! Dice > 0.75\")\n",
    "elif final_dice > 0.65:\n",
    "    print(f\"   ⚠️  Moderate performance. Dice > 0.65\")\n",
    "else:\n",
    "    print(f\"   ❌ Poor performance. Dice < 0.65\")\n",
    "\n",
    "print(f\"\\n🚀 Next Steps:\")\n",
    "print(f\"   1. Test model trên test set (notebook 06)\")\n",
    "print(f\"   2. So sánh với các models khác\")\n",
    "print(f\"   3. Fine-tune hyperparameters nếu cần\")\n",
    "print(f\"   4. Deploy model cho production\")\n",
    "\n",
    "print(\"\\n\" + \"=\"*70)\n",
    "print(\"🎉 Pure ViT Segmentation Training hoàn thành!\")\n",
    "print(\"=\"*70)"
   ]
  }
 ],
 "metadata": {
  "kernelspec": {
   "display_name": "Python 3",
   "language": "python",
   "name": "python3"
  },
  "language_info": {
   "codemirror_mode": {
    "name": "ipython",
    "version": 3
   },
   "file_extension": ".py",
   "mimetype": "text/x-python",
   "name": "python",
   "nbconvert_exporter": "python",
   "pygments_lexer": "ipython3",
   "version": "3.12.3"
  }
 },
 "nbformat": 4,
 "nbformat_minor": 4
}
